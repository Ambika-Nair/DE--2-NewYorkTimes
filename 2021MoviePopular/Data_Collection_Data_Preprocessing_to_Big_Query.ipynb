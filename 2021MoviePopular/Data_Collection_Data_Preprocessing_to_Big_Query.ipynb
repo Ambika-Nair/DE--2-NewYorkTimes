{
  "nbformat": 4,
  "nbformat_minor": 0,
  "metadata": {
    "colab": {
      "name": "Data Collection to Big Query.ipynb",
      "provenance": [],
      "collapsed_sections": []
    },
    "kernelspec": {
      "name": "python3",
      "display_name": "Python 3"
    },
    "language_info": {
      "name": "python"
    }
  },
  "cells": [
    {
      "cell_type": "code",
      "execution_count": 1,
      "metadata": {
        "colab": {
          "base_uri": "https://localhost:8080/"
        },
        "id": "j4dCVmqCA-NI",
        "outputId": "7c313b55-b128-4a86-99cb-f3b6094a67ab"
      },
      "outputs": [
        {
          "output_type": "stream",
          "name": "stdout",
          "text": [
            "Requirement already satisfied: google-cloud-bigquery in /usr/local/lib/python3.7/dist-packages (1.21.0)\n",
            "Requirement already satisfied: google-cloud-core<2.0dev,>=1.0.3 in /usr/local/lib/python3.7/dist-packages (from google-cloud-bigquery) (1.0.3)\n",
            "Requirement already satisfied: protobuf>=3.6.0 in /usr/local/lib/python3.7/dist-packages (from google-cloud-bigquery) (3.17.3)\n",
            "Requirement already satisfied: google-resumable-media!=0.4.0,<0.5.0dev,>=0.3.1 in /usr/local/lib/python3.7/dist-packages (from google-cloud-bigquery) (0.4.1)\n",
            "Requirement already satisfied: google-api-core<2.0.0dev,>=1.14.0 in /usr/local/lib/python3.7/dist-packages (from google-cloud-core<2.0dev,>=1.0.3->google-cloud-bigquery) (1.26.3)\n",
            "Requirement already satisfied: packaging>=14.3 in /usr/local/lib/python3.7/dist-packages (from google-api-core<2.0.0dev,>=1.14.0->google-cloud-core<2.0dev,>=1.0.3->google-cloud-bigquery) (21.3)\n",
            "Requirement already satisfied: requests<3.0.0dev,>=2.18.0 in /usr/local/lib/python3.7/dist-packages (from google-api-core<2.0.0dev,>=1.14.0->google-cloud-core<2.0dev,>=1.0.3->google-cloud-bigquery) (2.23.0)\n",
            "Requirement already satisfied: google-auth<2.0dev,>=1.21.1 in /usr/local/lib/python3.7/dist-packages (from google-api-core<2.0.0dev,>=1.14.0->google-cloud-core<2.0dev,>=1.0.3->google-cloud-bigquery) (1.35.0)\n",
            "Requirement already satisfied: pytz in /usr/local/lib/python3.7/dist-packages (from google-api-core<2.0.0dev,>=1.14.0->google-cloud-core<2.0dev,>=1.0.3->google-cloud-bigquery) (2018.9)\n",
            "Requirement already satisfied: setuptools>=40.3.0 in /usr/local/lib/python3.7/dist-packages (from google-api-core<2.0.0dev,>=1.14.0->google-cloud-core<2.0dev,>=1.0.3->google-cloud-bigquery) (57.4.0)\n",
            "Requirement already satisfied: googleapis-common-protos<2.0dev,>=1.6.0 in /usr/local/lib/python3.7/dist-packages (from google-api-core<2.0.0dev,>=1.14.0->google-cloud-core<2.0dev,>=1.0.3->google-cloud-bigquery) (1.53.0)\n",
            "Requirement already satisfied: six>=1.13.0 in /usr/local/lib/python3.7/dist-packages (from google-api-core<2.0.0dev,>=1.14.0->google-cloud-core<2.0dev,>=1.0.3->google-cloud-bigquery) (1.15.0)\n",
            "Requirement already satisfied: cachetools<5.0,>=2.0.0 in /usr/local/lib/python3.7/dist-packages (from google-auth<2.0dev,>=1.21.1->google-api-core<2.0.0dev,>=1.14.0->google-cloud-core<2.0dev,>=1.0.3->google-cloud-bigquery) (4.2.4)\n",
            "Requirement already satisfied: pyasn1-modules>=0.2.1 in /usr/local/lib/python3.7/dist-packages (from google-auth<2.0dev,>=1.21.1->google-api-core<2.0.0dev,>=1.14.0->google-cloud-core<2.0dev,>=1.0.3->google-cloud-bigquery) (0.2.8)\n",
            "Requirement already satisfied: rsa<5,>=3.1.4 in /usr/local/lib/python3.7/dist-packages (from google-auth<2.0dev,>=1.21.1->google-api-core<2.0.0dev,>=1.14.0->google-cloud-core<2.0dev,>=1.0.3->google-cloud-bigquery) (4.8)\n",
            "Requirement already satisfied: pyparsing!=3.0.5,>=2.0.2 in /usr/local/lib/python3.7/dist-packages (from packaging>=14.3->google-api-core<2.0.0dev,>=1.14.0->google-cloud-core<2.0dev,>=1.0.3->google-cloud-bigquery) (3.0.6)\n",
            "Requirement already satisfied: pyasn1<0.5.0,>=0.4.6 in /usr/local/lib/python3.7/dist-packages (from pyasn1-modules>=0.2.1->google-auth<2.0dev,>=1.21.1->google-api-core<2.0.0dev,>=1.14.0->google-cloud-core<2.0dev,>=1.0.3->google-cloud-bigquery) (0.4.8)\n",
            "Requirement already satisfied: idna<3,>=2.5 in /usr/local/lib/python3.7/dist-packages (from requests<3.0.0dev,>=2.18.0->google-api-core<2.0.0dev,>=1.14.0->google-cloud-core<2.0dev,>=1.0.3->google-cloud-bigquery) (2.10)\n",
            "Requirement already satisfied: urllib3!=1.25.0,!=1.25.1,<1.26,>=1.21.1 in /usr/local/lib/python3.7/dist-packages (from requests<3.0.0dev,>=2.18.0->google-api-core<2.0.0dev,>=1.14.0->google-cloud-core<2.0dev,>=1.0.3->google-cloud-bigquery) (1.24.3)\n",
            "Requirement already satisfied: certifi>=2017.4.17 in /usr/local/lib/python3.7/dist-packages (from requests<3.0.0dev,>=2.18.0->google-api-core<2.0.0dev,>=1.14.0->google-cloud-core<2.0dev,>=1.0.3->google-cloud-bigquery) (2021.10.8)\n",
            "Requirement already satisfied: chardet<4,>=3.0.2 in /usr/local/lib/python3.7/dist-packages (from requests<3.0.0dev,>=2.18.0->google-api-core<2.0.0dev,>=1.14.0->google-cloud-core<2.0dev,>=1.0.3->google-cloud-bigquery) (3.0.4)\n"
          ]
        }
      ],
      "source": [
        "pip install google-cloud-bigquery"
      ]
    },
    {
      "cell_type": "code",
      "source": [
        "from google.cloud import bigquery\n",
        "import os\n",
        "import pandas as pd\n",
        "import datetime as dt\n",
        "import numpy as np\n",
        "from pandas.io import gbq"
      ],
      "metadata": {
        "id": "KEIkIwqYBUE9"
      },
      "execution_count": 2,
      "outputs": []
    },
    {
      "cell_type": "code",
      "source": [
        "from google.colab import drive\n",
        "drive.mount('/content/drive')"
      ],
      "metadata": {
        "colab": {
          "base_uri": "https://localhost:8080/"
        },
        "id": "Ucb0LlhCCSql",
        "outputId": "fde9b20b-fcd6-4b81-dd78-50378ffa5061"
      },
      "execution_count": 3,
      "outputs": [
        {
          "output_type": "stream",
          "name": "stdout",
          "text": [
            "Mounted at /content/drive\n"
          ]
        }
      ]
    },
    {
      "cell_type": "code",
      "source": [
        "%cd \"/content/drive/Shareddrives/Tieu_Quyen/Data_Science/Data Engineering/DE2\""
      ],
      "metadata": {
        "colab": {
          "base_uri": "https://localhost:8080/"
        },
        "id": "6I4-BXfeDA1k",
        "outputId": "31f72347-0fec-48e6-e017-0c040471ac5c"
      },
      "execution_count": 4,
      "outputs": [
        {
          "output_type": "stream",
          "name": "stdout",
          "text": [
            "/content/drive/Shareddrives/Tieu_Quyen/Data_Science/Data Engineering/DE2\n"
          ]
        }
      ]
    },
    {
      "cell_type": "markdown",
      "source": [
        "## Data collection API"
      ],
      "metadata": {
        "id": "vTK0O-ktpdWs"
      }
    },
    {
      "cell_type": "code",
      "source": [
        "import requests\n",
        "import json\n",
        "from requests.auth import HTTPBasicAuth\n",
        "import pandas as pd\n",
        "from pandas.io.json import json_normalize"
      ],
      "metadata": {
        "id": "OfhRcUMHphNm"
      },
      "execution_count": 5,
      "outputs": []
    },
    {
      "cell_type": "code",
      "source": [
        "#: API key\n",
        "keyVal='70f735fa7557ad81fe3550508d8bb522'\n",
        "auth = HTTPBasicAuth(keyVal, '')"
      ],
      "metadata": {
        "id": "WLFQl5ZErCjm"
      },
      "execution_count": 6,
      "outputs": []
    },
    {
      "cell_type": "code",
      "source": [
        "# Trending media_type\n",
        "api_endpoint=f'https://api.themoviedb.org/3/discover/movie?api_key={keyVal}&language=en-US&sort_by=popularity.desc&include_adult=true&include_video=true&page=1&with_watch_monetization_types=flatrate'\n",
        "data=requests.get(api_endpoint, auth=auth).json()"
      ],
      "metadata": {
        "id": "ZflzOYwHrUS4"
      },
      "execution_count": 7,
      "outputs": []
    },
    {
      "cell_type": "code",
      "source": [
        "# Find out total number of pages\n",
        "api_endpoint=f'https://api.themoviedb.org/3/discover/movie?api_key={keyVal}&language=en-US&sort_by=popularity.desc&include_adult=true&include_video=true&page=1&with_watch_monetization_types=flatrate'\n",
        "data = requests.get(url=api_endpoint,auth=auth).json()\n",
        "total_pages = data['total_pages']\n",
        "total_pages"
      ],
      "metadata": {
        "id": "B1-3ulzyrWcq",
        "colab": {
          "base_uri": "https://localhost:8080/"
        },
        "outputId": "1f1ad898-765d-4caa-e777-ececef651fd3"
      },
      "execution_count": 9,
      "outputs": [
        {
          "output_type": "execute_result",
          "data": {
            "text/plain": [
              "500"
            ]
          },
          "metadata": {},
          "execution_count": 9
        }
      ]
    },
    {
      "cell_type": "code",
      "source": [
        "data = pd.DataFrame([])\n",
        "for page in range (1, total_pages):\n",
        "    api_endpoint=f'https://api.themoviedb.org/3/discover/movie?api_key={keyVal}&language=en-US&sort_by=popularity.desc&include_adult=true&include_video=true&page={page}&with_watch_monetization_types=flatrate'\n",
        "    df=requests.get(api_endpoint, auth=auth).json()\n",
        "    df_new = pd.json_normalize(df['results'])\n",
        "    data = pd.concat([data, df_new])\n",
        "    page += 1"
      ],
      "metadata": {
        "id": "ppn0qlE1rdEc"
      },
      "execution_count": 10,
      "outputs": []
    },
    {
      "cell_type": "code",
      "source": [
        "data.count()"
      ],
      "metadata": {
        "id": "iueNbuXMrhlr",
        "colab": {
          "base_uri": "https://localhost:8080/"
        },
        "outputId": "da3d9088-f0ad-4f24-85fb-d6832675abde"
      },
      "execution_count": 11,
      "outputs": [
        {
          "output_type": "execute_result",
          "data": {
            "text/plain": [
              "adult                9980\n",
              "backdrop_path        9578\n",
              "genre_ids            9980\n",
              "id                   9980\n",
              "original_language    9980\n",
              "original_title       9980\n",
              "overview             9980\n",
              "popularity           9980\n",
              "poster_path          9940\n",
              "release_date         9970\n",
              "title                9980\n",
              "video                9980\n",
              "vote_average         9980\n",
              "vote_count           9980\n",
              "dtype: int64"
            ]
          },
          "metadata": {},
          "execution_count": 11
        }
      ]
    },
    {
      "cell_type": "markdown",
      "source": [
        "## Data Pre-processing"
      ],
      "metadata": {
        "id": "OcnJujCtUtJ1"
      }
    },
    {
      "cell_type": "code",
      "source": [
        "movie = data[['adult','id','original_language','overview','popularity','release_date','title','vote_average','vote_count']]\n",
        "movie.info()"
      ],
      "metadata": {
        "colab": {
          "base_uri": "https://localhost:8080/"
        },
        "id": "L6x1im2zFk97",
        "outputId": "ec2020cf-93f9-4f4d-f351-0398d1d8e408"
      },
      "execution_count": 12,
      "outputs": [
        {
          "output_type": "stream",
          "name": "stdout",
          "text": [
            "<class 'pandas.core.frame.DataFrame'>\n",
            "Int64Index: 9980 entries, 0 to 19\n",
            "Data columns (total 9 columns):\n",
            " #   Column             Non-Null Count  Dtype  \n",
            "---  ------             --------------  -----  \n",
            " 0   adult              9980 non-null   bool   \n",
            " 1   id                 9980 non-null   int64  \n",
            " 2   original_language  9980 non-null   object \n",
            " 3   overview           9980 non-null   object \n",
            " 4   popularity         9980 non-null   float64\n",
            " 5   release_date       9970 non-null   object \n",
            " 6   title              9980 non-null   object \n",
            " 7   vote_average       9980 non-null   float64\n",
            " 8   vote_count         9980 non-null   int64  \n",
            "dtypes: bool(1), float64(2), int64(2), object(4)\n",
            "memory usage: 711.5+ KB\n"
          ]
        }
      ]
    },
    {
      "cell_type": "code",
      "source": [
        "movie['year'] = pd.to_datetime(movie['release_date']).dt.year\n",
        "movie.head()\n"
      ],
      "metadata": {
        "colab": {
          "base_uri": "https://localhost:8080/",
          "height": 316
        },
        "id": "EFsnYc-HGB2s",
        "outputId": "509ce8fd-cc3c-4a4e-e00c-3d6fab1d4ac8"
      },
      "execution_count": 13,
      "outputs": [
        {
          "output_type": "stream",
          "name": "stderr",
          "text": [
            "/usr/local/lib/python3.7/dist-packages/ipykernel_launcher.py:1: SettingWithCopyWarning: \n",
            "A value is trying to be set on a copy of a slice from a DataFrame.\n",
            "Try using .loc[row_indexer,col_indexer] = value instead\n",
            "\n",
            "See the caveats in the documentation: https://pandas.pydata.org/pandas-docs/stable/user_guide/indexing.html#returning-a-view-versus-a-copy\n",
            "  \"\"\"Entry point for launching an IPython kernel.\n"
          ]
        },
        {
          "output_type": "execute_result",
          "data": {
            "text/html": [
              "<div>\n",
              "<style scoped>\n",
              "    .dataframe tbody tr th:only-of-type {\n",
              "        vertical-align: middle;\n",
              "    }\n",
              "\n",
              "    .dataframe tbody tr th {\n",
              "        vertical-align: top;\n",
              "    }\n",
              "\n",
              "    .dataframe thead th {\n",
              "        text-align: right;\n",
              "    }\n",
              "</style>\n",
              "<table border=\"1\" class=\"dataframe\">\n",
              "  <thead>\n",
              "    <tr style=\"text-align: right;\">\n",
              "      <th></th>\n",
              "      <th>adult</th>\n",
              "      <th>id</th>\n",
              "      <th>original_language</th>\n",
              "      <th>overview</th>\n",
              "      <th>popularity</th>\n",
              "      <th>release_date</th>\n",
              "      <th>title</th>\n",
              "      <th>vote_average</th>\n",
              "      <th>vote_count</th>\n",
              "      <th>year</th>\n",
              "    </tr>\n",
              "  </thead>\n",
              "  <tbody>\n",
              "    <tr>\n",
              "      <th>0</th>\n",
              "      <td>False</td>\n",
              "      <td>580489</td>\n",
              "      <td>en</td>\n",
              "      <td>After finding a host body in investigative rep...</td>\n",
              "      <td>8633.976</td>\n",
              "      <td>2021-09-30</td>\n",
              "      <td>Venom: Let There Be Carnage</td>\n",
              "      <td>7.2</td>\n",
              "      <td>4398</td>\n",
              "      <td>2021.0</td>\n",
              "    </tr>\n",
              "    <tr>\n",
              "      <th>1</th>\n",
              "      <td>False</td>\n",
              "      <td>512195</td>\n",
              "      <td>en</td>\n",
              "      <td>An Interpol-issued Red Notice is a global aler...</td>\n",
              "      <td>4825.133</td>\n",
              "      <td>2021-11-04</td>\n",
              "      <td>Red Notice</td>\n",
              "      <td>6.8</td>\n",
              "      <td>1970</td>\n",
              "      <td>2021.0</td>\n",
              "    </tr>\n",
              "    <tr>\n",
              "      <th>2</th>\n",
              "      <td>False</td>\n",
              "      <td>585245</td>\n",
              "      <td>en</td>\n",
              "      <td>As Emily struggles to fit in at home and at sc...</td>\n",
              "      <td>3280.160</td>\n",
              "      <td>2021-11-10</td>\n",
              "      <td>Clifford the Big Red Dog</td>\n",
              "      <td>7.5</td>\n",
              "      <td>530</td>\n",
              "      <td>2021.0</td>\n",
              "    </tr>\n",
              "    <tr>\n",
              "      <th>3</th>\n",
              "      <td>False</td>\n",
              "      <td>617653</td>\n",
              "      <td>en</td>\n",
              "      <td>King Charles VI declares that Knight Jean de C...</td>\n",
              "      <td>3256.364</td>\n",
              "      <td>2021-10-13</td>\n",
              "      <td>The Last Duel</td>\n",
              "      <td>7.6</td>\n",
              "      <td>870</td>\n",
              "      <td>2021.0</td>\n",
              "    </tr>\n",
              "    <tr>\n",
              "      <th>4</th>\n",
              "      <td>False</td>\n",
              "      <td>566525</td>\n",
              "      <td>en</td>\n",
              "      <td>Shang-Chi must confront the past he thought he...</td>\n",
              "      <td>3189.442</td>\n",
              "      <td>2021-09-01</td>\n",
              "      <td>Shang-Chi and the Legend of the Ten Rings</td>\n",
              "      <td>7.8</td>\n",
              "      <td>4201</td>\n",
              "      <td>2021.0</td>\n",
              "    </tr>\n",
              "  </tbody>\n",
              "</table>\n",
              "</div>"
            ],
            "text/plain": [
              "   adult      id original_language  ... vote_average  vote_count    year\n",
              "0  False  580489                en  ...          7.2        4398  2021.0\n",
              "1  False  512195                en  ...          6.8        1970  2021.0\n",
              "2  False  585245                en  ...          7.5         530  2021.0\n",
              "3  False  617653                en  ...          7.6         870  2021.0\n",
              "4  False  566525                en  ...          7.8        4201  2021.0\n",
              "\n",
              "[5 rows x 10 columns]"
            ]
          },
          "metadata": {},
          "execution_count": 13
        }
      ]
    },
    {
      "cell_type": "code",
      "source": [
        "movie['month'] = pd.to_datetime(movie['release_date']).dt.month\n",
        "movie.head()"
      ],
      "metadata": {
        "colab": {
          "base_uri": "https://localhost:8080/",
          "height": 316
        },
        "id": "gIiUwheaHfJ5",
        "outputId": "019b5699-7a90-4234-ecc3-cd6c2d9d94c2"
      },
      "execution_count": 14,
      "outputs": [
        {
          "output_type": "stream",
          "name": "stderr",
          "text": [
            "/usr/local/lib/python3.7/dist-packages/ipykernel_launcher.py:1: SettingWithCopyWarning: \n",
            "A value is trying to be set on a copy of a slice from a DataFrame.\n",
            "Try using .loc[row_indexer,col_indexer] = value instead\n",
            "\n",
            "See the caveats in the documentation: https://pandas.pydata.org/pandas-docs/stable/user_guide/indexing.html#returning-a-view-versus-a-copy\n",
            "  \"\"\"Entry point for launching an IPython kernel.\n"
          ]
        },
        {
          "output_type": "execute_result",
          "data": {
            "text/html": [
              "<div>\n",
              "<style scoped>\n",
              "    .dataframe tbody tr th:only-of-type {\n",
              "        vertical-align: middle;\n",
              "    }\n",
              "\n",
              "    .dataframe tbody tr th {\n",
              "        vertical-align: top;\n",
              "    }\n",
              "\n",
              "    .dataframe thead th {\n",
              "        text-align: right;\n",
              "    }\n",
              "</style>\n",
              "<table border=\"1\" class=\"dataframe\">\n",
              "  <thead>\n",
              "    <tr style=\"text-align: right;\">\n",
              "      <th></th>\n",
              "      <th>adult</th>\n",
              "      <th>id</th>\n",
              "      <th>original_language</th>\n",
              "      <th>overview</th>\n",
              "      <th>popularity</th>\n",
              "      <th>release_date</th>\n",
              "      <th>title</th>\n",
              "      <th>vote_average</th>\n",
              "      <th>vote_count</th>\n",
              "      <th>year</th>\n",
              "      <th>month</th>\n",
              "    </tr>\n",
              "  </thead>\n",
              "  <tbody>\n",
              "    <tr>\n",
              "      <th>0</th>\n",
              "      <td>False</td>\n",
              "      <td>580489</td>\n",
              "      <td>en</td>\n",
              "      <td>After finding a host body in investigative rep...</td>\n",
              "      <td>8633.976</td>\n",
              "      <td>2021-09-30</td>\n",
              "      <td>Venom: Let There Be Carnage</td>\n",
              "      <td>7.2</td>\n",
              "      <td>4398</td>\n",
              "      <td>2021.0</td>\n",
              "      <td>9.0</td>\n",
              "    </tr>\n",
              "    <tr>\n",
              "      <th>1</th>\n",
              "      <td>False</td>\n",
              "      <td>512195</td>\n",
              "      <td>en</td>\n",
              "      <td>An Interpol-issued Red Notice is a global aler...</td>\n",
              "      <td>4825.133</td>\n",
              "      <td>2021-11-04</td>\n",
              "      <td>Red Notice</td>\n",
              "      <td>6.8</td>\n",
              "      <td>1970</td>\n",
              "      <td>2021.0</td>\n",
              "      <td>11.0</td>\n",
              "    </tr>\n",
              "    <tr>\n",
              "      <th>2</th>\n",
              "      <td>False</td>\n",
              "      <td>585245</td>\n",
              "      <td>en</td>\n",
              "      <td>As Emily struggles to fit in at home and at sc...</td>\n",
              "      <td>3280.160</td>\n",
              "      <td>2021-11-10</td>\n",
              "      <td>Clifford the Big Red Dog</td>\n",
              "      <td>7.5</td>\n",
              "      <td>530</td>\n",
              "      <td>2021.0</td>\n",
              "      <td>11.0</td>\n",
              "    </tr>\n",
              "    <tr>\n",
              "      <th>3</th>\n",
              "      <td>False</td>\n",
              "      <td>617653</td>\n",
              "      <td>en</td>\n",
              "      <td>King Charles VI declares that Knight Jean de C...</td>\n",
              "      <td>3256.364</td>\n",
              "      <td>2021-10-13</td>\n",
              "      <td>The Last Duel</td>\n",
              "      <td>7.6</td>\n",
              "      <td>870</td>\n",
              "      <td>2021.0</td>\n",
              "      <td>10.0</td>\n",
              "    </tr>\n",
              "    <tr>\n",
              "      <th>4</th>\n",
              "      <td>False</td>\n",
              "      <td>566525</td>\n",
              "      <td>en</td>\n",
              "      <td>Shang-Chi must confront the past he thought he...</td>\n",
              "      <td>3189.442</td>\n",
              "      <td>2021-09-01</td>\n",
              "      <td>Shang-Chi and the Legend of the Ten Rings</td>\n",
              "      <td>7.8</td>\n",
              "      <td>4201</td>\n",
              "      <td>2021.0</td>\n",
              "      <td>9.0</td>\n",
              "    </tr>\n",
              "  </tbody>\n",
              "</table>\n",
              "</div>"
            ],
            "text/plain": [
              "   adult      id original_language  ... vote_count    year month\n",
              "0  False  580489                en  ...       4398  2021.0   9.0\n",
              "1  False  512195                en  ...       1970  2021.0  11.0\n",
              "2  False  585245                en  ...        530  2021.0  11.0\n",
              "3  False  617653                en  ...        870  2021.0  10.0\n",
              "4  False  566525                en  ...       4201  2021.0   9.0\n",
              "\n",
              "[5 rows x 11 columns]"
            ]
          },
          "metadata": {},
          "execution_count": 14
        }
      ]
    },
    {
      "cell_type": "code",
      "source": [
        "movie_list = movie.where((movie['original_language']=='en') & (movie['year']==2021) & (movie['vote_count']>0))\n",
        "movie_list.info()"
      ],
      "metadata": {
        "colab": {
          "base_uri": "https://localhost:8080/"
        },
        "id": "kpjMDDLrJcZ_",
        "outputId": "6c5cd3f0-4793-4e76-ebc6-d1b4ddc89056"
      },
      "execution_count": 15,
      "outputs": [
        {
          "output_type": "stream",
          "name": "stdout",
          "text": [
            "<class 'pandas.core.frame.DataFrame'>\n",
            "Int64Index: 9980 entries, 0 to 19\n",
            "Data columns (total 11 columns):\n",
            " #   Column             Non-Null Count  Dtype  \n",
            "---  ------             --------------  -----  \n",
            " 0   adult              513 non-null    float64\n",
            " 1   id                 513 non-null    float64\n",
            " 2   original_language  513 non-null    object \n",
            " 3   overview           513 non-null    object \n",
            " 4   popularity         513 non-null    float64\n",
            " 5   release_date       513 non-null    object \n",
            " 6   title              513 non-null    object \n",
            " 7   vote_average       513 non-null    float64\n",
            " 8   vote_count         513 non-null    float64\n",
            " 9   year               513 non-null    float64\n",
            " 10  month              513 non-null    float64\n",
            "dtypes: float64(7), object(4)\n",
            "memory usage: 935.6+ KB\n"
          ]
        }
      ]
    },
    {
      "cell_type": "code",
      "source": [
        "movie_list=movie_list.dropna(how='any') \n",
        "movie_list.head()"
      ],
      "metadata": {
        "colab": {
          "base_uri": "https://localhost:8080/",
          "height": 223
        },
        "id": "3joKKb_hOlVV",
        "outputId": "92b6f2c0-ec8f-488f-9054-973c63b6a630"
      },
      "execution_count": 16,
      "outputs": [
        {
          "output_type": "execute_result",
          "data": {
            "text/html": [
              "<div>\n",
              "<style scoped>\n",
              "    .dataframe tbody tr th:only-of-type {\n",
              "        vertical-align: middle;\n",
              "    }\n",
              "\n",
              "    .dataframe tbody tr th {\n",
              "        vertical-align: top;\n",
              "    }\n",
              "\n",
              "    .dataframe thead th {\n",
              "        text-align: right;\n",
              "    }\n",
              "</style>\n",
              "<table border=\"1\" class=\"dataframe\">\n",
              "  <thead>\n",
              "    <tr style=\"text-align: right;\">\n",
              "      <th></th>\n",
              "      <th>adult</th>\n",
              "      <th>id</th>\n",
              "      <th>original_language</th>\n",
              "      <th>overview</th>\n",
              "      <th>popularity</th>\n",
              "      <th>release_date</th>\n",
              "      <th>title</th>\n",
              "      <th>vote_average</th>\n",
              "      <th>vote_count</th>\n",
              "      <th>year</th>\n",
              "      <th>month</th>\n",
              "    </tr>\n",
              "  </thead>\n",
              "  <tbody>\n",
              "    <tr>\n",
              "      <th>0</th>\n",
              "      <td>0.0</td>\n",
              "      <td>580489.0</td>\n",
              "      <td>en</td>\n",
              "      <td>After finding a host body in investigative rep...</td>\n",
              "      <td>8633.976</td>\n",
              "      <td>2021-09-30</td>\n",
              "      <td>Venom: Let There Be Carnage</td>\n",
              "      <td>7.2</td>\n",
              "      <td>4398.0</td>\n",
              "      <td>2021.0</td>\n",
              "      <td>9.0</td>\n",
              "    </tr>\n",
              "    <tr>\n",
              "      <th>1</th>\n",
              "      <td>0.0</td>\n",
              "      <td>512195.0</td>\n",
              "      <td>en</td>\n",
              "      <td>An Interpol-issued Red Notice is a global aler...</td>\n",
              "      <td>4825.133</td>\n",
              "      <td>2021-11-04</td>\n",
              "      <td>Red Notice</td>\n",
              "      <td>6.8</td>\n",
              "      <td>1970.0</td>\n",
              "      <td>2021.0</td>\n",
              "      <td>11.0</td>\n",
              "    </tr>\n",
              "    <tr>\n",
              "      <th>2</th>\n",
              "      <td>0.0</td>\n",
              "      <td>585245.0</td>\n",
              "      <td>en</td>\n",
              "      <td>As Emily struggles to fit in at home and at sc...</td>\n",
              "      <td>3280.160</td>\n",
              "      <td>2021-11-10</td>\n",
              "      <td>Clifford the Big Red Dog</td>\n",
              "      <td>7.5</td>\n",
              "      <td>530.0</td>\n",
              "      <td>2021.0</td>\n",
              "      <td>11.0</td>\n",
              "    </tr>\n",
              "    <tr>\n",
              "      <th>3</th>\n",
              "      <td>0.0</td>\n",
              "      <td>617653.0</td>\n",
              "      <td>en</td>\n",
              "      <td>King Charles VI declares that Knight Jean de C...</td>\n",
              "      <td>3256.364</td>\n",
              "      <td>2021-10-13</td>\n",
              "      <td>The Last Duel</td>\n",
              "      <td>7.6</td>\n",
              "      <td>870.0</td>\n",
              "      <td>2021.0</td>\n",
              "      <td>10.0</td>\n",
              "    </tr>\n",
              "    <tr>\n",
              "      <th>4</th>\n",
              "      <td>0.0</td>\n",
              "      <td>566525.0</td>\n",
              "      <td>en</td>\n",
              "      <td>Shang-Chi must confront the past he thought he...</td>\n",
              "      <td>3189.442</td>\n",
              "      <td>2021-09-01</td>\n",
              "      <td>Shang-Chi and the Legend of the Ten Rings</td>\n",
              "      <td>7.8</td>\n",
              "      <td>4201.0</td>\n",
              "      <td>2021.0</td>\n",
              "      <td>9.0</td>\n",
              "    </tr>\n",
              "  </tbody>\n",
              "</table>\n",
              "</div>"
            ],
            "text/plain": [
              "   adult        id original_language  ... vote_count    year month\n",
              "0    0.0  580489.0                en  ...     4398.0  2021.0   9.0\n",
              "1    0.0  512195.0                en  ...     1970.0  2021.0  11.0\n",
              "2    0.0  585245.0                en  ...      530.0  2021.0  11.0\n",
              "3    0.0  617653.0                en  ...      870.0  2021.0  10.0\n",
              "4    0.0  566525.0                en  ...     4201.0  2021.0   9.0\n",
              "\n",
              "[5 rows x 11 columns]"
            ]
          },
          "metadata": {},
          "execution_count": 16
        }
      ]
    },
    {
      "cell_type": "code",
      "source": [
        "movie_list=movie_list.drop_duplicates()\n",
        "movie_list.info()"
      ],
      "metadata": {
        "colab": {
          "base_uri": "https://localhost:8080/"
        },
        "id": "oDPj7XhpQDVG",
        "outputId": "389d9534-11ae-4c2d-cde3-e0d6846192bd"
      },
      "execution_count": 17,
      "outputs": [
        {
          "output_type": "stream",
          "name": "stdout",
          "text": [
            "<class 'pandas.core.frame.DataFrame'>\n",
            "Int64Index: 513 entries, 0 to 4\n",
            "Data columns (total 11 columns):\n",
            " #   Column             Non-Null Count  Dtype  \n",
            "---  ------             --------------  -----  \n",
            " 0   adult              513 non-null    float64\n",
            " 1   id                 513 non-null    float64\n",
            " 2   original_language  513 non-null    object \n",
            " 3   overview           513 non-null    object \n",
            " 4   popularity         513 non-null    float64\n",
            " 5   release_date       513 non-null    object \n",
            " 6   title              513 non-null    object \n",
            " 7   vote_average       513 non-null    float64\n",
            " 8   vote_count         513 non-null    float64\n",
            " 9   year               513 non-null    float64\n",
            " 10  month              513 non-null    float64\n",
            "dtypes: float64(7), object(4)\n",
            "memory usage: 48.1+ KB\n"
          ]
        }
      ]
    },
    {
      "cell_type": "code",
      "source": [
        "final_movie = movie_list[['adult','id','overview','popularity','release_date','title','vote_average','vote_count']]\n",
        "final_movie.head()"
      ],
      "metadata": {
        "colab": {
          "base_uri": "https://localhost:8080/",
          "height": 206
        },
        "id": "HzGMDzU_QzsO",
        "outputId": "5d529052-fbb0-4b49-a9cc-44b56bed17ea"
      },
      "execution_count": 18,
      "outputs": [
        {
          "output_type": "execute_result",
          "data": {
            "text/html": [
              "<div>\n",
              "<style scoped>\n",
              "    .dataframe tbody tr th:only-of-type {\n",
              "        vertical-align: middle;\n",
              "    }\n",
              "\n",
              "    .dataframe tbody tr th {\n",
              "        vertical-align: top;\n",
              "    }\n",
              "\n",
              "    .dataframe thead th {\n",
              "        text-align: right;\n",
              "    }\n",
              "</style>\n",
              "<table border=\"1\" class=\"dataframe\">\n",
              "  <thead>\n",
              "    <tr style=\"text-align: right;\">\n",
              "      <th></th>\n",
              "      <th>adult</th>\n",
              "      <th>id</th>\n",
              "      <th>overview</th>\n",
              "      <th>popularity</th>\n",
              "      <th>release_date</th>\n",
              "      <th>title</th>\n",
              "      <th>vote_average</th>\n",
              "      <th>vote_count</th>\n",
              "    </tr>\n",
              "  </thead>\n",
              "  <tbody>\n",
              "    <tr>\n",
              "      <th>0</th>\n",
              "      <td>0.0</td>\n",
              "      <td>580489.0</td>\n",
              "      <td>After finding a host body in investigative rep...</td>\n",
              "      <td>8633.976</td>\n",
              "      <td>2021-09-30</td>\n",
              "      <td>Venom: Let There Be Carnage</td>\n",
              "      <td>7.2</td>\n",
              "      <td>4398.0</td>\n",
              "    </tr>\n",
              "    <tr>\n",
              "      <th>1</th>\n",
              "      <td>0.0</td>\n",
              "      <td>512195.0</td>\n",
              "      <td>An Interpol-issued Red Notice is a global aler...</td>\n",
              "      <td>4825.133</td>\n",
              "      <td>2021-11-04</td>\n",
              "      <td>Red Notice</td>\n",
              "      <td>6.8</td>\n",
              "      <td>1970.0</td>\n",
              "    </tr>\n",
              "    <tr>\n",
              "      <th>2</th>\n",
              "      <td>0.0</td>\n",
              "      <td>585245.0</td>\n",
              "      <td>As Emily struggles to fit in at home and at sc...</td>\n",
              "      <td>3280.160</td>\n",
              "      <td>2021-11-10</td>\n",
              "      <td>Clifford the Big Red Dog</td>\n",
              "      <td>7.5</td>\n",
              "      <td>530.0</td>\n",
              "    </tr>\n",
              "    <tr>\n",
              "      <th>3</th>\n",
              "      <td>0.0</td>\n",
              "      <td>617653.0</td>\n",
              "      <td>King Charles VI declares that Knight Jean de C...</td>\n",
              "      <td>3256.364</td>\n",
              "      <td>2021-10-13</td>\n",
              "      <td>The Last Duel</td>\n",
              "      <td>7.6</td>\n",
              "      <td>870.0</td>\n",
              "    </tr>\n",
              "    <tr>\n",
              "      <th>4</th>\n",
              "      <td>0.0</td>\n",
              "      <td>566525.0</td>\n",
              "      <td>Shang-Chi must confront the past he thought he...</td>\n",
              "      <td>3189.442</td>\n",
              "      <td>2021-09-01</td>\n",
              "      <td>Shang-Chi and the Legend of the Ten Rings</td>\n",
              "      <td>7.8</td>\n",
              "      <td>4201.0</td>\n",
              "    </tr>\n",
              "  </tbody>\n",
              "</table>\n",
              "</div>"
            ],
            "text/plain": [
              "   adult        id  ... vote_average  vote_count\n",
              "0    0.0  580489.0  ...          7.2      4398.0\n",
              "1    0.0  512195.0  ...          6.8      1970.0\n",
              "2    0.0  585245.0  ...          7.5       530.0\n",
              "3    0.0  617653.0  ...          7.6       870.0\n",
              "4    0.0  566525.0  ...          7.8      4201.0\n",
              "\n",
              "[5 rows x 8 columns]"
            ]
          },
          "metadata": {},
          "execution_count": 18
        }
      ]
    },
    {
      "cell_type": "code",
      "source": [
        "final_movie.info()"
      ],
      "metadata": {
        "colab": {
          "base_uri": "https://localhost:8080/"
        },
        "id": "uRojE7AWV88d",
        "outputId": "8fe0242c-bafe-4ae9-cbbd-7b7675252cd5"
      },
      "execution_count": 19,
      "outputs": [
        {
          "output_type": "stream",
          "name": "stdout",
          "text": [
            "<class 'pandas.core.frame.DataFrame'>\n",
            "Int64Index: 513 entries, 0 to 4\n",
            "Data columns (total 8 columns):\n",
            " #   Column        Non-Null Count  Dtype  \n",
            "---  ------        --------------  -----  \n",
            " 0   adult         513 non-null    float64\n",
            " 1   id            513 non-null    float64\n",
            " 2   overview      513 non-null    object \n",
            " 3   popularity    513 non-null    float64\n",
            " 4   release_date  513 non-null    object \n",
            " 5   title         513 non-null    object \n",
            " 6   vote_average  513 non-null    float64\n",
            " 7   vote_count    513 non-null    float64\n",
            "dtypes: float64(5), object(3)\n",
            "memory usage: 36.1+ KB\n"
          ]
        }
      ]
    },
    {
      "cell_type": "markdown",
      "source": [
        "## Load data to GCP"
      ],
      "metadata": {
        "id": "PmA72kYGVKxM"
      }
    },
    {
      "cell_type": "code",
      "source": [
        "final_movie.to_gbq(destination_table='movie_dataset.realtime',\n",
        "                   project_id='direct-obelisk-333711',\n",
        "                   if_exists='replace')"
      ],
      "metadata": {
        "colab": {
          "base_uri": "https://localhost:8080/"
        },
        "id": "umU_NPfKI4t8",
        "outputId": "bed5f7b0-faa9-4d9d-bdf2-2b56208e1303"
      },
      "execution_count": null,
      "outputs": [
        {
          "output_type": "stream",
          "name": "stderr",
          "text": [
            "1it [00:04,  4.02s/it]\n"
          ]
        }
      ]
    }
  ]
}